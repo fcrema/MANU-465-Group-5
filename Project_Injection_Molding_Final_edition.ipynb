{
  "nbformat": 4,
  "nbformat_minor": 0,
  "metadata": {
    "colab": {
      "name": "Project_Injection_Molding_Final_edition.ipynb",
      "provenance": [],
      "collapsed_sections": []
    },
    "kernelspec": {
      "display_name": "Python 3",
      "language": "python",
      "name": "python3"
    },
    "language_info": {
      "codemirror_mode": {
        "name": "ipython",
        "version": 3
      },
      "file_extension": ".py",
      "mimetype": "text/x-python",
      "name": "python",
      "nbconvert_exporter": "python",
      "pygments_lexer": "ipython3",
      "version": "3.8.8"
    },
    "toc": {
      "base_numbering": 1,
      "nav_menu": {},
      "number_sections": true,
      "sideBar": true,
      "skip_h1_title": false,
      "title_cell": "Table of Contents",
      "title_sidebar": "Contents",
      "toc_cell": false,
      "toc_position": {},
      "toc_section_display": true,
      "toc_window_display": true
    },
    "varInspector": {
      "cols": {
        "lenName": 16,
        "lenType": 16,
        "lenVar": 40
      },
      "kernels_config": {
        "python": {
          "delete_cmd_postfix": "",
          "delete_cmd_prefix": "del ",
          "library": "var_list.py",
          "varRefreshCmd": "print(var_dic_list())"
        },
        "r": {
          "delete_cmd_postfix": ") ",
          "delete_cmd_prefix": "rm(",
          "library": "var_list.r",
          "varRefreshCmd": "cat(var_dic_list()) "
        }
      },
      "oldHeight": 357.5,
      "position": {
        "height": "379.5px",
        "left": "1161px",
        "right": "20px",
        "top": "122px",
        "width": "319px"
      },
      "types_to_exclude": [
        "module",
        "function",
        "builtin_function_or_method",
        "instance",
        "_Feature"
      ],
      "varInspector_section_display": "block",
      "window_display": false
    }
  },
  "cells": [
    {
      "cell_type": "markdown",
      "metadata": {
        "id": "37puETfgRzzg"
      },
      "source": [
        "# Injection Molding Project\n",
        "## Group 5 | MANU 465 | December 2 2021"
      ]
    },
    {
      "cell_type": "markdown",
      "metadata": {
        "id": "qqr3zCNuHrRm"
      },
      "source": [
        "## Project Description\n",
        "We are a company that makes tables that require components with high tensile and yield strengths, beams that are stiff, and circular discs. \n",
        "\n",
        "The quality of the part produced by injection molding process is influenced by different parameters inside the injection molding machine such as fill pressure, back pressure, temperature of the melt and distanced traveled by the screw. Depending on the values of the parameters mentioned, a part can come out as successful or defective. Each part obtained from the injection molding machine is made up of three components: a circular disk, a tensile specimen, and a beam. A uniaxial tensile test is performed on the tensile specimen to measure strength, a bending test on the beam to measure deflection, and an imaging test to determine the quality of the disk. Parts with values that are within the allowed range will be classified as a ‘good’ part.\n",
        "Given these machine parameters, a model will be trained using different machine learning regression models to predict part properties. \n",
        "\n",
        " The machine learning models will be able to quickly predict the tensile and bending test output parameters as if full tests were completed. This can then be used to classify the quality of a particular part as a ‘good’ or ‘bad’ part.\n",
        " \n",
        " 1. Regression models to determine yield strength and bending deflection.\n",
        " \n",
        " - Support Vector Regression(SVR)\n",
        " - ANN Regressor\n",
        " - Multiple Linear Regression\n",
        "\n",
        " 2. Using Classification methods to determine the circular disc and overall part quality.\n",
        " \n",
        " - KNN\n",
        " - SVM \n",
        " - Naive Bayes\n",
        " - Logistic Regression\n",
        " - ANN classifier\n",
        "\n",
        " 3. Using CNN to determine whether a part is perfectly shaped or not after it has been made. This is to catch any defects that may have slipped past our aforementioned models.\n",
        "This CNN model would be used in a real world scenario and would be fed picture data taken by an overhead camera positioned ontop of a conveyor belt transporting parts produced from the machine to the next stage in a factory.\n",
        "\n",
        "Note that the outputs for the regression models are the numerical data of yield strength and deflection, and is stored in the variable y. \n",
        "\n",
        "The outputs for the classification models are good/bad outputs for disc and overall part quality, and are stored in y1.\n"
      ]
    },
    {
      "cell_type": "markdown",
      "metadata": {
        "id": "EoRP98MpR-qj"
      },
      "source": [
        "## Importing the Libraries"
      ]
    },
    {
      "cell_type": "code",
      "metadata": {
        "id": "N-qiINBQSK2g"
      },
      "source": [
        "import numpy as np\n",
        "import matplotlib.pyplot as plt\n",
        "import pandas as pd\n",
        "import tensorflow as tf\n",
        "from tensorflow import keras\n",
        "import io"
      ],
      "execution_count": null,
      "outputs": []
    },
    {
      "cell_type": "markdown",
      "metadata": {
        "id": "RopL7tUZSQkT"
      },
      "source": [
        "## Importing the Dataset"
      ]
    },
    {
      "cell_type": "code",
      "metadata": {
        "id": "KGOqxEKOJyBV"
      },
      "source": [
        "\n",
        "dataset = pd.read_csv('injection_molding_data.csv')"
      ],
      "execution_count": null,
      "outputs": []
    },
    {
      "cell_type": "markdown",
      "metadata": {
        "id": "1iaH_t4cHrRu"
      },
      "source": [
        "## A Quick Review of the Data"
      ]
    },
    {
      "cell_type": "code",
      "metadata": {
        "id": "hEtz1t90HrRs",
        "scrolled": true,
        "outputId": "8a923b02-a626-46f5-9c94-18bee3e5843b"
      },
      "source": [
        "pd.DataFrame(dataset)\n",
        "#We assigned a 1 if the circular portion of the part came out bad, and 0 if it was successful.\n",
        "#We then assigned a 0 if the overall part was good, and 1 if it was bad.\n"
      ],
      "execution_count": null,
      "outputs": [
        {
          "data": {
            "text/html": [
              "<div>\n",
              "<style scoped>\n",
              "    .dataframe tbody tr th:only-of-type {\n",
              "        vertical-align: middle;\n",
              "    }\n",
              "\n",
              "    .dataframe tbody tr th {\n",
              "        vertical-align: top;\n",
              "    }\n",
              "\n",
              "    .dataframe thead th {\n",
              "        text-align: right;\n",
              "    }\n",
              "</style>\n",
              "<table border=\"1\" class=\"dataframe\">\n",
              "  <thead>\n",
              "    <tr style=\"text-align: right;\">\n",
              "      <th></th>\n",
              "      <th>Temp 1 (C)</th>\n",
              "      <th>Temp 2 (C)</th>\n",
              "      <th>Temp 3 (C)</th>\n",
              "      <th>Temp 4 (C)</th>\n",
              "      <th>Temp 5 (C)</th>\n",
              "      <th>Pressure fill (bar)</th>\n",
              "      <th>Screw distance (mm)</th>\n",
              "      <th>Yield Strength (MPa)</th>\n",
              "      <th>Bending Deflection (cm)</th>\n",
              "      <th>Imperfect Circle (1 Y/ 0N)</th>\n",
              "      <th>Part Quality (0 G/ 1B)</th>\n",
              "    </tr>\n",
              "  </thead>\n",
              "  <tbody>\n",
              "    <tr>\n",
              "      <th>0</th>\n",
              "      <td>229</td>\n",
              "      <td>240</td>\n",
              "      <td>249</td>\n",
              "      <td>240</td>\n",
              "      <td>240</td>\n",
              "      <td>56</td>\n",
              "      <td>61</td>\n",
              "      <td>13.69</td>\n",
              "      <td>0.70</td>\n",
              "      <td>0</td>\n",
              "      <td>1.0</td>\n",
              "    </tr>\n",
              "    <tr>\n",
              "      <th>1</th>\n",
              "      <td>229</td>\n",
              "      <td>240</td>\n",
              "      <td>249</td>\n",
              "      <td>240</td>\n",
              "      <td>240</td>\n",
              "      <td>57</td>\n",
              "      <td>61</td>\n",
              "      <td>10.54</td>\n",
              "      <td>0.60</td>\n",
              "      <td>0</td>\n",
              "      <td>0.0</td>\n",
              "    </tr>\n",
              "    <tr>\n",
              "      <th>2</th>\n",
              "      <td>229</td>\n",
              "      <td>240</td>\n",
              "      <td>249</td>\n",
              "      <td>240</td>\n",
              "      <td>240</td>\n",
              "      <td>57</td>\n",
              "      <td>61</td>\n",
              "      <td>11.82</td>\n",
              "      <td>0.60</td>\n",
              "      <td>0</td>\n",
              "      <td>0.0</td>\n",
              "    </tr>\n",
              "    <tr>\n",
              "      <th>3</th>\n",
              "      <td>229</td>\n",
              "      <td>240</td>\n",
              "      <td>249</td>\n",
              "      <td>240</td>\n",
              "      <td>240</td>\n",
              "      <td>58</td>\n",
              "      <td>61</td>\n",
              "      <td>12.70</td>\n",
              "      <td>0.60</td>\n",
              "      <td>0</td>\n",
              "      <td>0.0</td>\n",
              "    </tr>\n",
              "    <tr>\n",
              "      <th>4</th>\n",
              "      <td>229</td>\n",
              "      <td>240</td>\n",
              "      <td>249</td>\n",
              "      <td>240</td>\n",
              "      <td>240</td>\n",
              "      <td>61</td>\n",
              "      <td>61</td>\n",
              "      <td>11.09</td>\n",
              "      <td>0.60</td>\n",
              "      <td>0</td>\n",
              "      <td>0.0</td>\n",
              "    </tr>\n",
              "    <tr>\n",
              "      <th>...</th>\n",
              "      <td>...</td>\n",
              "      <td>...</td>\n",
              "      <td>...</td>\n",
              "      <td>...</td>\n",
              "      <td>...</td>\n",
              "      <td>...</td>\n",
              "      <td>...</td>\n",
              "      <td>...</td>\n",
              "      <td>...</td>\n",
              "      <td>...</td>\n",
              "      <td>...</td>\n",
              "    </tr>\n",
              "    <tr>\n",
              "      <th>130</th>\n",
              "      <td>250</td>\n",
              "      <td>255</td>\n",
              "      <td>260</td>\n",
              "      <td>250</td>\n",
              "      <td>240</td>\n",
              "      <td>50</td>\n",
              "      <td>61</td>\n",
              "      <td>13.52</td>\n",
              "      <td>0.95</td>\n",
              "      <td>0</td>\n",
              "      <td>1.0</td>\n",
              "    </tr>\n",
              "    <tr>\n",
              "      <th>131</th>\n",
              "      <td>250</td>\n",
              "      <td>255</td>\n",
              "      <td>260</td>\n",
              "      <td>250</td>\n",
              "      <td>240</td>\n",
              "      <td>56</td>\n",
              "      <td>61</td>\n",
              "      <td>12.81</td>\n",
              "      <td>0.45</td>\n",
              "      <td>0</td>\n",
              "      <td>0.0</td>\n",
              "    </tr>\n",
              "    <tr>\n",
              "      <th>132</th>\n",
              "      <td>250</td>\n",
              "      <td>255</td>\n",
              "      <td>260</td>\n",
              "      <td>250</td>\n",
              "      <td>240</td>\n",
              "      <td>60</td>\n",
              "      <td>61</td>\n",
              "      <td>12.27</td>\n",
              "      <td>0.50</td>\n",
              "      <td>0</td>\n",
              "      <td>0.0</td>\n",
              "    </tr>\n",
              "    <tr>\n",
              "      <th>133</th>\n",
              "      <td>250</td>\n",
              "      <td>255</td>\n",
              "      <td>260</td>\n",
              "      <td>250</td>\n",
              "      <td>240</td>\n",
              "      <td>65</td>\n",
              "      <td>61</td>\n",
              "      <td>11.55</td>\n",
              "      <td>NaN</td>\n",
              "      <td>0</td>\n",
              "      <td>0.0</td>\n",
              "    </tr>\n",
              "    <tr>\n",
              "      <th>134</th>\n",
              "      <td>250</td>\n",
              "      <td>255</td>\n",
              "      <td>260</td>\n",
              "      <td>250</td>\n",
              "      <td>240</td>\n",
              "      <td>70</td>\n",
              "      <td>61</td>\n",
              "      <td>11.97</td>\n",
              "      <td>0.70</td>\n",
              "      <td>0</td>\n",
              "      <td>1.0</td>\n",
              "    </tr>\n",
              "  </tbody>\n",
              "</table>\n",
              "<p>135 rows × 11 columns</p>\n",
              "</div>"
            ],
            "text/plain": [
              "     Temp 1 (C)  Temp 2 (C)  Temp 3 (C)  Temp 4 (C)  Temp 5 (C)  \\\n",
              "0           229         240         249         240         240   \n",
              "1           229         240         249         240         240   \n",
              "2           229         240         249         240         240   \n",
              "3           229         240         249         240         240   \n",
              "4           229         240         249         240         240   \n",
              "..          ...         ...         ...         ...         ...   \n",
              "130         250         255         260         250         240   \n",
              "131         250         255         260         250         240   \n",
              "132         250         255         260         250         240   \n",
              "133         250         255         260         250         240   \n",
              "134         250         255         260         250         240   \n",
              "\n",
              "     Pressure fill (bar)  Screw distance (mm)  Yield Strength (MPa)  \\\n",
              "0                     56                   61                 13.69   \n",
              "1                     57                   61                 10.54   \n",
              "2                     57                   61                 11.82   \n",
              "3                     58                   61                 12.70   \n",
              "4                     61                   61                 11.09   \n",
              "..                   ...                  ...                   ...   \n",
              "130                   50                   61                 13.52   \n",
              "131                   56                   61                 12.81   \n",
              "132                   60                   61                 12.27   \n",
              "133                   65                   61                 11.55   \n",
              "134                   70                   61                 11.97   \n",
              "\n",
              "     Bending Deflection (cm)  Imperfect Circle (1 Y/ 0N)  \\\n",
              "0                       0.70                           0   \n",
              "1                       0.60                           0   \n",
              "2                       0.60                           0   \n",
              "3                       0.60                           0   \n",
              "4                       0.60                           0   \n",
              "..                       ...                         ...   \n",
              "130                     0.95                           0   \n",
              "131                     0.45                           0   \n",
              "132                     0.50                           0   \n",
              "133                      NaN                           0   \n",
              "134                     0.70                           0   \n",
              "\n",
              "     Part Quality (0 G/ 1B)   \n",
              "0                        1.0  \n",
              "1                        0.0  \n",
              "2                        0.0  \n",
              "3                        0.0  \n",
              "4                        0.0  \n",
              "..                       ...  \n",
              "130                      1.0  \n",
              "131                      0.0  \n",
              "132                      0.0  \n",
              "133                      0.0  \n",
              "134                      1.0  \n",
              "\n",
              "[135 rows x 11 columns]"
            ]
          },
          "execution_count": 72,
          "metadata": {},
          "output_type": "execute_result"
        }
      ]
    },
    {
      "cell_type": "code",
      "metadata": {
        "id": "vphJRtSfHrRu",
        "outputId": "3edfd6e3-0fe6-449a-8b82-93eb43b7b389"
      },
      "source": [
        "dataset.info()"
      ],
      "execution_count": null,
      "outputs": [
        {
          "name": "stdout",
          "output_type": "stream",
          "text": [
            "<class 'pandas.core.frame.DataFrame'>\n",
            "RangeIndex: 135 entries, 0 to 134\n",
            "Data columns (total 12 columns):\n",
            " #   Column                      Non-Null Count  Dtype  \n",
            "---  ------                      --------------  -----  \n",
            " 0   #                           135 non-null    int64  \n",
            " 1   Temp 1 (C)                  135 non-null    int64  \n",
            " 2   Temp 2 (C)                  135 non-null    int64  \n",
            " 3   Temp 3 (C)                  135 non-null    int64  \n",
            " 4   Temp 4 (C)                  135 non-null    int64  \n",
            " 5   Temp 5 (C)                  135 non-null    int64  \n",
            " 6   Pressure fill (bar)         135 non-null    int64  \n",
            " 7   Screw distance (mm)         135 non-null    int64  \n",
            " 8   Yield Strength (MPa)        123 non-null    float64\n",
            " 9   Bending Deflection (cm)     126 non-null    float64\n",
            " 10  Imperfect Circle (1 Y/ 0N)  135 non-null    int64  \n",
            " 11  Part Quality (0 G/ 1B)      131 non-null    float64\n",
            "dtypes: float64(3), int64(9)\n",
            "memory usage: 12.8 KB\n"
          ]
        }
      ]
    },
    {
      "cell_type": "markdown",
      "metadata": {
        "id": "Rell9UuSHrRv"
      },
      "source": [
        "## Separate Input and Output Data\n",
        "Here, we put the independent variables in X and the dependent variable in y (regression outputs) and y1 (classification outputs). "
      ]
    },
    {
      "cell_type": "code",
      "metadata": {
        "id": "gI2cm8HAHrRv"
      },
      "source": [
        "X = dataset.iloc[:, 1:8].values\n",
        "y = dataset.iloc[:,8:10].values\n",
        "y1 = dataset.iloc[:, 10:12].values\n",
        "y0 = np.logical_or(y1[:,0],y1[:,1])"
      ],
      "execution_count": null,
      "outputs": []
    },
    {
      "cell_type": "markdown",
      "metadata": {
        "id": "p3FZT3f-4o6r"
      },
      "source": [
        "#### exploring the data\n"
      ]
    },
    {
      "cell_type": "code",
      "metadata": {
        "id": "IelVtD2L5vKb",
        "outputId": "28ea3ff1-c514-4fb7-c227-d2c8bc8f4166"
      },
      "source": [
        "dataset.hist(bins=20,figsize=(15,15), color=\"red\")\n",
        "plt.show()\n"
      ],
      "execution_count": null,
      "outputs": [
        {
          "data": {
            "image/png": "[encoded data removed]",
            "text/plain": [
              "<Figure size 1080x1080 with 12 Axes>"
            ]
          },
          "metadata": {
            "needs_background": "light"
          },
          "output_type": "display_data"
        }
      ]
    },
    {
      "cell_type": "code",
      "metadata": {
        "id": "k_3Ah7SB4o6s",
        "outputId": "b07460de-832e-4e68-c865-032abbafca91"
      },
      "source": [
        "#create a correlation matrix\n",
        "# the (#) appears as a feature but it was included since we decided to keep it in the dataset \n",
        "\n",
        "corr_matrix = dataset.corr() \n",
        "mask = np.triu(np.ones_like(corr_matrix,dtype = bool)) # Only keep the upper triangle of\n",
        "from seaborn import heatmap\n",
        "plt.figure(dpi=100)\n",
        "plt.title('Correlation Analysis')\n",
        "heatmap(corr_matrix,mask=mask,annot=False,lw=0,linecolor='white',cmap='magma')\n",
        "plt.xticks(rotation=90)\n",
        "plt.yticks(rotation = 0)\n",
        "plt.show()\n"
      ],
      "execution_count": null,
      "outputs": [
        {
          "data": {
            "image/png": "[encoded data removed]",
            "text/plain": [
              "<Figure size 600x400 with 2 Axes>"
            ]
          },
          "metadata": {
            "needs_background": "light"
          },
          "output_type": "display_data"
        }
      ]
    },
    {
      "cell_type": "markdown",
      "metadata": {
        "id": "nhfKXNxlSabC"
      },
      "source": [
        "## Handle missing data"
      ]
    },
    {
      "cell_type": "code",
      "metadata": {
        "id": "c93k7ipkSexq"
      },
      "source": [
        "# There is no missing data for the input parameters, only the output paramters ( Yield strength and deflection have missing data)\n",
        "# Since we couldn't do tensile testing and beam deflection for all parts, we decided to impute the missing data using 'mean' strategy\n",
        "from sklearn.impute import SimpleImputer\n",
        "imputer0 = SimpleImputer(missing_values=np.nan, strategy='mean')\n",
        "y = imputer0.fit_transform(y)\n",
        "imputer1 = SimpleImputer(missing_values=np.nan, strategy='constant',fill_value=1)\n",
        "y1 = imputer1.fit_transform(y1)"
      ],
      "execution_count": null,
      "outputs": []
    },
    {
      "cell_type": "code",
      "metadata": {
        "id": "3UgLdMS_bjq_",
        "outputId": "ec3e1959-f83c-438c-a741-848e59e7886d"
      },
      "source": [
        "# A quick check\n",
        "pd.DataFrame(y)"
      ],
      "execution_count": null,
      "outputs": [
        {
          "data": {
            "text/html": [
              "<div>\n",
              "<style scoped>\n",
              "    .dataframe tbody tr th:only-of-type {\n",
              "        vertical-align: middle;\n",
              "    }\n",
              "\n",
              "    .dataframe tbody tr th {\n",
              "        vertical-align: top;\n",
              "    }\n",
              "\n",
              "    .dataframe thead th {\n",
              "        text-align: right;\n",
              "    }\n",
              "</style>\n",
              "<table border=\"1\" class=\"dataframe\">\n",
              "  <thead>\n",
              "    <tr style=\"text-align: right;\">\n",
              "      <th></th>\n",
              "      <th>0</th>\n",
              "      <th>1</th>\n",
              "    </tr>\n",
              "  </thead>\n",
              "  <tbody>\n",
              "    <tr>\n",
              "      <th>0</th>\n",
              "      <td>13.69</td>\n",
              "      <td>0.700000</td>\n",
              "    </tr>\n",
              "    <tr>\n",
              "      <th>1</th>\n",
              "      <td>10.54</td>\n",
              "      <td>0.600000</td>\n",
              "    </tr>\n",
              "    <tr>\n",
              "      <th>2</th>\n",
              "      <td>11.82</td>\n",
              "      <td>0.600000</td>\n",
              "    </tr>\n",
              "    <tr>\n",
              "      <th>3</th>\n",
              "      <td>12.70</td>\n",
              "      <td>0.600000</td>\n",
              "    </tr>\n",
              "    <tr>\n",
              "      <th>4</th>\n",
              "      <td>11.09</td>\n",
              "      <td>0.600000</td>\n",
              "    </tr>\n",
              "    <tr>\n",
              "      <th>...</th>\n",
              "      <td>...</td>\n",
              "      <td>...</td>\n",
              "    </tr>\n",
              "    <tr>\n",
              "      <th>130</th>\n",
              "      <td>13.52</td>\n",
              "      <td>0.950000</td>\n",
              "    </tr>\n",
              "    <tr>\n",
              "      <th>131</th>\n",
              "      <td>12.81</td>\n",
              "      <td>0.450000</td>\n",
              "    </tr>\n",
              "    <tr>\n",
              "      <th>132</th>\n",
              "      <td>12.27</td>\n",
              "      <td>0.500000</td>\n",
              "    </tr>\n",
              "    <tr>\n",
              "      <th>133</th>\n",
              "      <td>11.55</td>\n",
              "      <td>0.538571</td>\n",
              "    </tr>\n",
              "    <tr>\n",
              "      <th>134</th>\n",
              "      <td>11.97</td>\n",
              "      <td>0.700000</td>\n",
              "    </tr>\n",
              "  </tbody>\n",
              "</table>\n",
              "<p>135 rows × 2 columns</p>\n",
              "</div>"
            ],
            "text/plain": [
              "         0         1\n",
              "0    13.69  0.700000\n",
              "1    10.54  0.600000\n",
              "2    11.82  0.600000\n",
              "3    12.70  0.600000\n",
              "4    11.09  0.600000\n",
              "..     ...       ...\n",
              "130  13.52  0.950000\n",
              "131  12.81  0.450000\n",
              "132  12.27  0.500000\n",
              "133  11.55  0.538571\n",
              "134  11.97  0.700000\n",
              "\n",
              "[135 rows x 2 columns]"
            ]
          },
          "execution_count": 25,
          "metadata": {},
          "output_type": "execute_result"
        }
      ]
    },
    {
      "cell_type": "markdown",
      "metadata": {
        "id": "c3Wxxar7WjGG"
      },
      "source": [
        "## Dataset Analysis"
      ]
    },
    {
      "cell_type": "markdown",
      "metadata": {
        "id": "bQzr7L9uFrjO"
      },
      "source": [
        "Principal Component Analysis"
      ]
    },
    {
      "cell_type": "code",
      "metadata": {
        "id": "eZRW2iWbwsXF",
        "outputId": "10f5c009-e0f5-4bc9-8126-e59710c76f91"
      },
      "source": [
        "n=7\n",
        "from sklearn.decomposition import PCA\n",
        "PrinCom=PCA(n_components=n)\n",
        "Z=PrinCom.fit_transform(X)\n",
        "\n",
        "e=[0]*n\n",
        "den=0\n",
        "for i in range(n):\n",
        "    e[i]=np.var(Z[:,i])\n",
        "    den+=e[i]\n",
        "\n",
        "for count in range(1,8):\n",
        "    num=0\n",
        "    for j in range(count):\n",
        "        num+=e[j]\n",
        "\n",
        "    pc=100*(num)/(den)\n",
        "    print(\"The first {} PCs can describe {:.2f} of the information in this dataset.\".format(count,pc))"
      ],
      "execution_count": null,
      "outputs": [
        {
          "name": "stdout",
          "output_type": "stream",
          "text": [
            "The first 1 PCs can describe 91.98 of the information in this dataset.\n",
            "The first 2 PCs can describe 95.73 of the information in this dataset.\n",
            "The first 3 PCs can describe 98.05 of the information in this dataset.\n",
            "The first 4 PCs can describe 99.56 of the information in this dataset.\n",
            "The first 5 PCs can describe 99.93 of the information in this dataset.\n",
            "The first 6 PCs can describe 99.97 of the information in this dataset.\n",
            "The first 7 PCs can describe 100.00 of the information in this dataset.\n"
          ]
        }
      ]
    },
    {
      "cell_type": "markdown",
      "metadata": {
        "id": "nhuk8hfl9EIw"
      },
      "source": [
        "Feature Selection"
      ]
    },
    {
      "cell_type": "code",
      "metadata": {
        "colab": {
          "base_uri": "https://localhost:8080/"
        },
        "id": "2wVisNet9ClJ",
        "outputId": "7b29b3ad-fd4b-4051-accb-3af1fba2ae10"
      },
      "source": [
        "from sklearn import datasets\n",
        "from sklearn import metrics\n",
        "from sklearn.feature_selection import f_regression\n",
        "model0 = f_regression(X,y[:,0])\n",
        "model1 = f_regression(X,y[:,1])\n",
        "print(model0,model1)"
      ],
      "execution_count": null,
      "outputs": [
        {
          "name": "stdout",
          "output_type": "stream",
          "text": [
            "(array([12.66190829,  8.22788439,  4.01039921,  9.69206391,  7.59957044,\n",
            "        1.99667133,  4.37366295]), array([0.00051796, 0.00479916, 0.04725361, 0.0022663 , 0.00665877,\n",
            "       0.15998108, 0.0384007 ])) (array([0.49656003, 0.84819359, 1.64572081, 3.20579724, 1.79634644,\n",
            "       0.07954209, 0.36529148]), array([0.48224766, 0.35873138, 0.20177346, 0.07565257, 0.18243992,\n",
            "       0.77835731, 0.54661172]))\n"
          ]
        }
      ]
    },
    {
      "cell_type": "code",
      "metadata": {
        "colab": {
          "base_uri": "https://localhost:8080/"
        },
        "id": "HDjoow3e8j4B",
        "outputId": "02213159-e43d-42f6-db16-50a5b1f92218"
      },
      "source": [
        "from sklearn import datasets\n",
        "from sklearn.feature_selection import RFE\n",
        "from sklearn.linear_model import LogisticRegression\n",
        "model = LogisticRegression()\n",
        "rfe = RFE(model,n_features_to_select=1)\n",
        "rfe = rfe.fit(X, y0)\n",
        "print(rfe.support_)\n",
        "print(rfe.ranking_)"
      ],
      "execution_count": null,
      "outputs": [
        {
          "name": "stdout",
          "output_type": "stream",
          "text": [
            "[False False False False False False  True]\n",
            "[3 2 4 5 7 6 1]\n"
          ]
        },
        {
          "name": "stderr",
          "output_type": "stream",
          "text": [
            "C:\\Users\\ricky\\anaconda3\\lib\\site-packages\\sklearn\\linear_model\\_logistic.py:763: ConvergenceWarning: lbfgs failed to converge (status=1):\n",
            "STOP: TOTAL NO. of ITERATIONS REACHED LIMIT.\n",
            "\n",
            "Increase the number of iterations (max_iter) or scale the data as shown in:\n",
            "    https://scikit-learn.org/stable/modules/preprocessing.html\n",
            "Please also refer to the documentation for alternative solver options:\n",
            "    https://scikit-learn.org/stable/modules/linear_model.html#logistic-regression\n",
            "  n_iter_i = _check_optimize_result(\n"
          ]
        }
      ]
    },
    {
      "cell_type": "code",
      "metadata": {
        "id": "hCsz2yCebe1R",
        "outputId": "82f891aa-3baa-42f0-900c-a751c79f8710"
      },
      "source": [
        "pd.DataFrame(X)"
      ],
      "execution_count": null,
      "outputs": [
        {
          "data": {
            "text/html": [
              "<div>\n",
              "<style scoped>\n",
              "    .dataframe tbody tr th:only-of-type {\n",
              "        vertical-align: middle;\n",
              "    }\n",
              "\n",
              "    .dataframe tbody tr th {\n",
              "        vertical-align: top;\n",
              "    }\n",
              "\n",
              "    .dataframe thead th {\n",
              "        text-align: right;\n",
              "    }\n",
              "</style>\n",
              "<table border=\"1\" class=\"dataframe\">\n",
              "  <thead>\n",
              "    <tr style=\"text-align: right;\">\n",
              "      <th></th>\n",
              "      <th>0</th>\n",
              "      <th>1</th>\n",
              "      <th>2</th>\n",
              "      <th>3</th>\n",
              "      <th>4</th>\n",
              "      <th>5</th>\n",
              "      <th>6</th>\n",
              "    </tr>\n",
              "  </thead>\n",
              "  <tbody>\n",
              "    <tr>\n",
              "      <th>0</th>\n",
              "      <td>229</td>\n",
              "      <td>240</td>\n",
              "      <td>249</td>\n",
              "      <td>240</td>\n",
              "      <td>240</td>\n",
              "      <td>56</td>\n",
              "      <td>61</td>\n",
              "    </tr>\n",
              "    <tr>\n",
              "      <th>1</th>\n",
              "      <td>229</td>\n",
              "      <td>240</td>\n",
              "      <td>249</td>\n",
              "      <td>240</td>\n",
              "      <td>240</td>\n",
              "      <td>57</td>\n",
              "      <td>61</td>\n",
              "    </tr>\n",
              "    <tr>\n",
              "      <th>2</th>\n",
              "      <td>229</td>\n",
              "      <td>240</td>\n",
              "      <td>249</td>\n",
              "      <td>240</td>\n",
              "      <td>240</td>\n",
              "      <td>57</td>\n",
              "      <td>61</td>\n",
              "    </tr>\n",
              "    <tr>\n",
              "      <th>3</th>\n",
              "      <td>229</td>\n",
              "      <td>240</td>\n",
              "      <td>249</td>\n",
              "      <td>240</td>\n",
              "      <td>240</td>\n",
              "      <td>58</td>\n",
              "      <td>61</td>\n",
              "    </tr>\n",
              "    <tr>\n",
              "      <th>4</th>\n",
              "      <td>229</td>\n",
              "      <td>240</td>\n",
              "      <td>249</td>\n",
              "      <td>240</td>\n",
              "      <td>240</td>\n",
              "      <td>61</td>\n",
              "      <td>61</td>\n",
              "    </tr>\n",
              "    <tr>\n",
              "      <th>...</th>\n",
              "      <td>...</td>\n",
              "      <td>...</td>\n",
              "      <td>...</td>\n",
              "      <td>...</td>\n",
              "      <td>...</td>\n",
              "      <td>...</td>\n",
              "      <td>...</td>\n",
              "    </tr>\n",
              "    <tr>\n",
              "      <th>130</th>\n",
              "      <td>250</td>\n",
              "      <td>255</td>\n",
              "      <td>260</td>\n",
              "      <td>250</td>\n",
              "      <td>240</td>\n",
              "      <td>50</td>\n",
              "      <td>61</td>\n",
              "    </tr>\n",
              "    <tr>\n",
              "      <th>131</th>\n",
              "      <td>250</td>\n",
              "      <td>255</td>\n",
              "      <td>260</td>\n",
              "      <td>250</td>\n",
              "      <td>240</td>\n",
              "      <td>56</td>\n",
              "      <td>61</td>\n",
              "    </tr>\n",
              "    <tr>\n",
              "      <th>132</th>\n",
              "      <td>250</td>\n",
              "      <td>255</td>\n",
              "      <td>260</td>\n",
              "      <td>250</td>\n",
              "      <td>240</td>\n",
              "      <td>60</td>\n",
              "      <td>61</td>\n",
              "    </tr>\n",
              "    <tr>\n",
              "      <th>133</th>\n",
              "      <td>250</td>\n",
              "      <td>255</td>\n",
              "      <td>260</td>\n",
              "      <td>250</td>\n",
              "      <td>240</td>\n",
              "      <td>65</td>\n",
              "      <td>61</td>\n",
              "    </tr>\n",
              "    <tr>\n",
              "      <th>134</th>\n",
              "      <td>250</td>\n",
              "      <td>255</td>\n",
              "      <td>260</td>\n",
              "      <td>250</td>\n",
              "      <td>240</td>\n",
              "      <td>70</td>\n",
              "      <td>61</td>\n",
              "    </tr>\n",
              "  </tbody>\n",
              "</table>\n",
              "<p>135 rows × 7 columns</p>\n",
              "</div>"
            ],
            "text/plain": [
              "       0    1    2    3    4   5   6\n",
              "0    229  240  249  240  240  56  61\n",
              "1    229  240  249  240  240  57  61\n",
              "2    229  240  249  240  240  57  61\n",
              "3    229  240  249  240  240  58  61\n",
              "4    229  240  249  240  240  61  61\n",
              "..   ...  ...  ...  ...  ...  ..  ..\n",
              "130  250  255  260  250  240  50  61\n",
              "131  250  255  260  250  240  56  61\n",
              "132  250  255  260  250  240  60  61\n",
              "133  250  255  260  250  240  65  61\n",
              "134  250  255  260  250  240  70  61\n",
              "\n",
              "[135 rows x 7 columns]"
            ]
          },
          "execution_count": 29,
          "metadata": {},
          "output_type": "execute_result"
        }
      ]
    },
    {
      "cell_type": "code",
      "metadata": {
        "id": "eYrOQ43XcJR3"
      },
      "source": [
        "pd.DataFrame(y) "
      ],
      "execution_count": null,
      "outputs": []
    },
    {
      "cell_type": "code",
      "metadata": {
        "id": "WbeZIElNHrRx",
        "outputId": "dc35c296-9148-4f95-a137-3ab0e233e395"
      },
      "source": [
        "y1"
      ],
      "execution_count": null,
      "outputs": [
        {
          "data": {
            "text/plain": [
              "array([[0., 1.],\n",
              "       [0., 0.],\n",
              "       [0., 0.],\n",
              "       [0., 0.],\n",
              "       [0., 0.],\n",
              "       [0., 1.],\n",
              "       [0., 0.],\n",
              "       [1., 1.],\n",
              "       [1., 1.],\n",
              "       [1., 1.],\n",
              "       [1., 1.],\n",
              "       [1., 1.],\n",
              "       [1., 1.],\n",
              "       [1., 1.],\n",
              "       [1., 1.],\n",
              "       [1., 1.],\n",
              "       [1., 1.],\n",
              "       [1., 1.],\n",
              "       [1., 1.],\n",
              "       [1., 1.],\n",
              "       [1., 1.],\n",
              "       [1., 1.],\n",
              "       [1., 1.],\n",
              "       [0., 0.],\n",
              "       [0., 0.],\n",
              "       [0., 0.],\n",
              "       [0., 1.],\n",
              "       [0., 0.],\n",
              "       [0., 0.],\n",
              "       [1., 1.],\n",
              "       [1., 1.],\n",
              "       [1., 1.],\n",
              "       [1., 1.],\n",
              "       [1., 1.],\n",
              "       [1., 1.],\n",
              "       [1., 1.],\n",
              "       [1., 1.],\n",
              "       [1., 1.],\n",
              "       [0., 1.],\n",
              "       [0., 0.],\n",
              "       [1., 1.],\n",
              "       [1., 1.],\n",
              "       [1., 1.],\n",
              "       [1., 1.],\n",
              "       [1., 1.],\n",
              "       [1., 1.],\n",
              "       [1., 1.],\n",
              "       [1., 1.],\n",
              "       [1., 1.],\n",
              "       [1., 1.],\n",
              "       [1., 1.],\n",
              "       [0., 0.],\n",
              "       [0., 1.],\n",
              "       [0., 0.],\n",
              "       [1., 1.],\n",
              "       [1., 1.],\n",
              "       [1., 1.],\n",
              "       [1., 1.],\n",
              "       [1., 1.],\n",
              "       [1., 1.],\n",
              "       [1., 1.],\n",
              "       [1., 1.],\n",
              "       [1., 1.],\n",
              "       [1., 1.],\n",
              "       [1., 1.],\n",
              "       [1., 1.],\n",
              "       [1., 1.],\n",
              "       [1., 1.],\n",
              "       [1., 1.],\n",
              "       [1., 1.],\n",
              "       [1., 1.],\n",
              "       [1., 1.],\n",
              "       [1., 1.],\n",
              "       [1., 1.],\n",
              "       [1., 1.],\n",
              "       [1., 1.],\n",
              "       [1., 1.],\n",
              "       [1., 1.],\n",
              "       [0., 0.],\n",
              "       [1., 1.],\n",
              "       [1., 1.],\n",
              "       [1., 1.],\n",
              "       [1., 1.],\n",
              "       [0., 0.],\n",
              "       [0., 0.],\n",
              "       [1., 1.],\n",
              "       [0., 0.],\n",
              "       [0., 0.],\n",
              "       [0., 0.],\n",
              "       [1., 1.],\n",
              "       [0., 0.],\n",
              "       [0., 0.],\n",
              "       [0., 0.],\n",
              "       [0., 1.],\n",
              "       [0., 0.],\n",
              "       [0., 0.],\n",
              "       [1., 1.],\n",
              "       [0., 1.],\n",
              "       [0., 1.],\n",
              "       [0., 0.],\n",
              "       [0., 0.],\n",
              "       [1., 1.],\n",
              "       [1., 1.],\n",
              "       [1., 1.],\n",
              "       [1., 1.],\n",
              "       [1., 1.],\n",
              "       [1., 1.],\n",
              "       [1., 1.],\n",
              "       [1., 1.],\n",
              "       [1., 1.],\n",
              "       [1., 1.],\n",
              "       [0., 0.],\n",
              "       [1., 1.],\n",
              "       [1., 1.],\n",
              "       [1., 1.],\n",
              "       [1., 1.],\n",
              "       [1., 1.],\n",
              "       [1., 1.],\n",
              "       [1., 1.],\n",
              "       [1., 1.],\n",
              "       [1., 1.],\n",
              "       [1., 1.],\n",
              "       [1., 1.],\n",
              "       [1., 1.],\n",
              "       [1., 1.],\n",
              "       [1., 1.],\n",
              "       [1., 1.],\n",
              "       [1., 1.],\n",
              "       [1., 1.],\n",
              "       [1., 1.],\n",
              "       [0., 1.],\n",
              "       [0., 0.],\n",
              "       [0., 0.],\n",
              "       [0., 0.],\n",
              "       [0., 1.]])"
            ]
          },
          "execution_count": 30,
          "metadata": {},
          "output_type": "execute_result"
        }
      ]
    },
    {
      "cell_type": "markdown",
      "metadata": {
        "id": "yy4fhFkCQRhZ"
      },
      "source": [
        "## Encoding Data"
      ]
    },
    {
      "cell_type": "markdown",
      "metadata": {
        "id": "CriG6VzVSjcK"
      },
      "source": [
        "### Encoding Categorical Data\n",
        "\n",
        "We don't have any categorical data"
      ]
    },
    {
      "cell_type": "markdown",
      "metadata": {
        "id": "DXh8oVSITIc6"
      },
      "source": [
        "### Encoding the Dependent Variable\n",
        "\n",
        "They are already encoded"
      ]
    },
    {
      "cell_type": "code",
      "metadata": {
        "id": "FyhY8-gPpFCa"
      },
      "source": [
        "# a quick check\n",
        "pd.DataFrame(y1)"
      ],
      "execution_count": null,
      "outputs": []
    },
    {
      "cell_type": "markdown",
      "metadata": {
        "id": "qb_vcgm3qZKW"
      },
      "source": [
        "## Splitting the Dataset into the Training and Test Sets"
      ]
    },
    {
      "cell_type": "code",
      "metadata": {
        "id": "pXgA6CzlqbCl"
      },
      "source": [
        "from sklearn.model_selection import train_test_split\n",
        "X_train, X_test, y_train, y_test = train_test_split(X, y, test_size = 0.2, random_state = 1)"
      ],
      "execution_count": null,
      "outputs": []
    },
    {
      "cell_type": "code",
      "metadata": {
        "id": "GuwQhFdKrYTM",
        "outputId": "43324d1b-9630-48b8-ff66-b9e144a40a9a"
      },
      "source": [
        "print(X_train)"
      ],
      "execution_count": null,
      "outputs": [
        {
          "name": "stdout",
          "output_type": "stream",
          "text": [
            "[[206 216 226 216 216  56  61]\n",
            " [220 220 220 220 220  56  61]\n",
            " [215 215 220 220 225  65  61]\n",
            " [212 225 235 225 225  56  61]\n",
            " [250 255 260 250 240  60  61]\n",
            " [205 215 225 235 225  65  61]\n",
            " [260 260 260 260 260  56  61]\n",
            " [215 220 220 225 225  70  61]\n",
            " [229 240 249 240 240  35  61]\n",
            " [229 240 249 240 240  57  61]\n",
            " [232 245 252 240 240  56  61]\n",
            " [225 235 245 235 225  50  61]\n",
            " [229 240 249 240 240  65  61]\n",
            " [240 240 240 240 240  60  61]\n",
            " [260 260 260 260 260  70  61]\n",
            " [245 245 245 245 245  50  61]\n",
            " [255 255 255 255 255  65  61]\n",
            " [205 215 225 225 225  60  61]\n",
            " [215 215 215 215 215  56  61]\n",
            " [240 240 240 240 240  65  61]\n",
            " [260 260 260 260 260  65  61]\n",
            " [207 217 227 217 217  60  61]\n",
            " [240 240 240 240 240  56  61]\n",
            " [205 215 225 235 225  56  61]\n",
            " [220 230 240 230 230  50  61]\n",
            " [225 225 225 225 225  65  61]\n",
            " [250 250 250 250 250  65  61]\n",
            " [260 260 260 260 260  60  61]\n",
            " [225 235 245 235 225  60  61]\n",
            " [235 235 235 235 235  50  61]\n",
            " [230 230 230 230 230  60  61]\n",
            " [229 240 249 240 240  45  61]\n",
            " [202 212 222 212 212  56  61]\n",
            " [194 204 214 204 204  56  61]\n",
            " [260 260 260 260 260  50  61]\n",
            " [230 240 250 240 240  56  61]\n",
            " [206 216 226 216 216  56  57]\n",
            " [225 230 235 230 225  70  61]\n",
            " [250 255 260 250 240  70  61]\n",
            " [270 280 290 280 280  56  61]\n",
            " [240 250 260 250 250  56  61]\n",
            " [220 220 220 220 220  50  61]\n",
            " [225 230 235 230 225  56  61]\n",
            " [215 215 220 220 225  60  61]\n",
            " [230 230 230 230 230  50  61]\n",
            " [235 235 235 235 235  70  61]\n",
            " [205 215 225 235 225  60  61]\n",
            " [250 255 260 250 240  56  61]\n",
            " [205 215 225 235 225  70  61]\n",
            " [215 220 220 225 225  60  61]\n",
            " [190 200 210 200 200  56  61]\n",
            " [215 225 235 220 219  56  61]\n",
            " [220 230 240 230 230  60  61]\n",
            " [270 280 290 280 280  56  61]\n",
            " [230 230 230 230 230  70  61]\n",
            " [194 204 214 204 204  70  61]\n",
            " [250 260 270 260 260  56  61]\n",
            " [215 220 225 230 225  60  61]\n",
            " [250 250 250 250 250  60  61]\n",
            " [215 215 220 220 225  56  61]\n",
            " [215 225 235 225 225  60  61]\n",
            " [220 230 240 230 230  56  57]\n",
            " [220 220 220 220 220  70  61]\n",
            " [229 240 249 240 240  58  61]\n",
            " [250 255 260 250 240  50  61]\n",
            " [225 235 245 235 235  56  61]\n",
            " [250 255 260 250 240  65  61]\n",
            " [207 217 227 217 217  70  61]\n",
            " [225 230 235 230 225  65  61]\n",
            " [245 245 245 245 245  70  61]\n",
            " [229 240 249 240 240  50  61]\n",
            " [240 240 240 240 240  50  61]\n",
            " [250 250 250 250 250  56  61]\n",
            " [229 240 249 240 240  56  61]\n",
            " [229 240 249 240 240  57  61]\n",
            " [230 230 230 230 230  56  61]\n",
            " [230 240 250 240 240  56  57]\n",
            " [255 255 255 255 255  56  61]\n",
            " [215 220 220 225 225  50  61]\n",
            " [229 240 249 240 240  50  61]\n",
            " [229 240 249 240 240  45  61]\n",
            " [225 235 245 235 225  70  61]\n",
            " [210 220 230 220 220  56  61]\n",
            " [245 245 245 245 245  60  61]\n",
            " [255 255 255 255 255  70  61]\n",
            " [255 255 255 255 255  60  61]\n",
            " [225 235 245 235 225  65  61]\n",
            " [215 215 220 220 225  70  61]\n",
            " [215 220 225 230 225  56  61]\n",
            " [245 245 245 245 245  65  61]\n",
            " [220 220 220 220 220  60  61]\n",
            " [215 225 235 225 225  70  61]\n",
            " [210 220 230 220 220  56  61]\n",
            " [215 225 235 225 225  56  61]\n",
            " [280 290 300 290 290  56  61]\n",
            " [225 230 235 230 225  50  61]\n",
            " [229 240 249 240 240  40  61]\n",
            " [240 240 240 240 240  70  61]\n",
            " [202 212 222 212 212  56  57]\n",
            " [215 215 220 220 225  50  61]\n",
            " [205 215 225 225 225  56  61]\n",
            " [210 220 230 220 220  56  57]\n",
            " [260 270 280 270 270  56  61]\n",
            " [225 225 225 225 225  50  61]\n",
            " [205 215 225 225 225  70  61]\n",
            " [235 235 235 235 235  65  61]\n",
            " [225 225 225 225 225  60  61]\n",
            " [220 230 240 230 230  56  61]]\n"
          ]
        }
      ]
    },
    {
      "cell_type": "code",
      "metadata": {
        "id": "TUrX_Tvcrbi4"
      },
      "source": [
        "print(X_test)"
      ],
      "execution_count": null,
      "outputs": []
    },
    {
      "cell_type": "code",
      "metadata": {
        "id": "pSMHiIsWreQY",
        "outputId": "f53b4841-ec6f-4e45-bcd0-a76643a9543d"
      },
      "source": [
        "print(y_train)"
      ],
      "execution_count": null,
      "outputs": [
        {
          "name": "stdout",
          "output_type": "stream",
          "text": [
            "[[10.38        0.51      ]\n",
            " [10.89        0.5       ]\n",
            " [12.76        0.7       ]\n",
            " [12.9         0.5       ]\n",
            " [12.27        0.5       ]\n",
            " [14.9         0.7       ]\n",
            " [11.48382114  0.5       ]\n",
            " [ 8.44        0.6       ]\n",
            " [ 9.42        0.5       ]\n",
            " [11.82        0.6       ]\n",
            " [10.78        0.5       ]\n",
            " [13.62        0.6       ]\n",
            " [10.99        0.6       ]\n",
            " [11.96        0.6       ]\n",
            " [10.15        0.6       ]\n",
            " [12.61        0.6       ]\n",
            " [10.01        0.6       ]\n",
            " [ 9.38        0.7       ]\n",
            " [ 9.39        0.5       ]\n",
            " [13.7         0.6       ]\n",
            " [13.57        0.55      ]\n",
            " [11.48382114  0.4       ]\n",
            " [15.15        0.6       ]\n",
            " [12.71        0.35      ]\n",
            " [13.9         0.5       ]\n",
            " [15.62        0.25      ]\n",
            " [15.15        0.58      ]\n",
            " [12.75        0.7       ]\n",
            " [12.89        0.6       ]\n",
            " [ 9.65        0.4       ]\n",
            " [15.64        0.4       ]\n",
            " [ 9.4         0.5       ]\n",
            " [10.38        0.65      ]\n",
            " [10.78        0.4       ]\n",
            " [13.08        0.65      ]\n",
            " [12.39        0.7       ]\n",
            " [10.92        0.5       ]\n",
            " [ 9.63        0.4       ]\n",
            " [11.97        0.7       ]\n",
            " [ 9.1         0.4       ]\n",
            " [10.55        0.5       ]\n",
            " [11.5         0.38      ]\n",
            " [13.45        0.6       ]\n",
            " [ 9.09        0.6       ]\n",
            " [11.12        0.5       ]\n",
            " [11.48382114  0.4       ]\n",
            " [11.5         0.7       ]\n",
            " [12.81        0.45      ]\n",
            " [11.67        0.7       ]\n",
            " [ 9.01        0.4       ]\n",
            " [ 8.73        0.6       ]\n",
            " [ 8.75        0.5       ]\n",
            " [11.48382114  0.6       ]\n",
            " [13.52        0.53857143]\n",
            " [13.24        0.5       ]\n",
            " [13.28        0.5       ]\n",
            " [11.97        0.5       ]\n",
            " [12.61        0.6       ]\n",
            " [13.59        0.57      ]\n",
            " [10.47        0.6       ]\n",
            " [10.61        0.6       ]\n",
            " [ 9.56        0.5       ]\n",
            " [10.98        0.4       ]\n",
            " [12.7         0.6       ]\n",
            " [13.52        0.95      ]\n",
            " [11.03        0.7       ]\n",
            " [11.55        0.53857143]\n",
            " [11.48382114  0.4       ]\n",
            " [11.67        0.5       ]\n",
            " [15.5         0.53857143]\n",
            " [ 8.48        0.53857143]\n",
            " [ 8.93        0.55      ]\n",
            " [11.48382114  0.65      ]\n",
            " [13.69        0.7       ]\n",
            " [10.54        0.6       ]\n",
            " [12.6         0.53857143]\n",
            " [ 5.99        0.5       ]\n",
            " [13.98        0.5       ]\n",
            " [11.48382114  0.5       ]\n",
            " [11.81        0.5       ]\n",
            " [10.05        0.53857143]\n",
            " [ 9.51        0.61      ]\n",
            " [ 9.75        0.5       ]\n",
            " [13.95        0.5       ]\n",
            " [10.99        0.6       ]\n",
            " [14.38        0.6       ]\n",
            " [ 9.23        0.55      ]\n",
            " [10.54        0.6       ]\n",
            " [ 9.47        0.57      ]\n",
            " [15.99        0.5       ]\n",
            " [11.98        0.4       ]\n",
            " [10.53        0.3       ]\n",
            " [10.96        0.53857143]\n",
            " [ 9.85        0.65      ]\n",
            " [12.43        0.4       ]\n",
            " [12.33        0.7       ]\n",
            " [13.67        0.4       ]\n",
            " [14.53        0.55      ]\n",
            " [10.29        0.5       ]\n",
            " [ 8.98        0.7       ]\n",
            " [11.49        0.7       ]\n",
            " [11.54        0.6       ]\n",
            " [13.38        0.4       ]\n",
            " [11.25        0.25      ]\n",
            " [ 9.08        0.65      ]\n",
            " [11.48382114  0.4       ]\n",
            " [10.75        0.45      ]\n",
            " [ 5.72        0.53857143]]\n"
          ]
        }
      ]
    },
    {
      "cell_type": "code",
      "metadata": {
        "id": "I_tW7H56rgtW"
      },
      "source": [
        "print(y_test)"
      ],
      "execution_count": null,
      "outputs": []
    },
    {
      "cell_type": "code",
      "metadata": {
        "id": "-PCWsu-zsxfv"
      },
      "source": [
        "from sklearn.preprocessing import StandardScaler\n",
        "sc = StandardScaler()\n",
        "X_train = sc.fit_transform(X_train)\n",
        "X_test = sc.transform(X_test)"
      ],
      "execution_count": null,
      "outputs": []
    },
    {
      "cell_type": "markdown",
      "metadata": {
        "id": "JC1qbLUy70t2"
      },
      "source": [
        "# Building the Models\n",
        "\n"
      ]
    },
    {
      "cell_type": "markdown",
      "metadata": {
        "id": "IJ1pE_GQ9LaW"
      },
      "source": [
        "## Classification Models"
      ]
    },
    {
      "cell_type": "code",
      "metadata": {
        "id": "dqEeJw-a4o6y"
      },
      "source": [
        "#In this section we will split the data into training and testing set again but this time using y1 rather than y"
      ],
      "execution_count": null,
      "outputs": []
    },
    {
      "cell_type": "markdown",
      "metadata": {
        "id": "rUhDtJHcRLRR"
      },
      "source": [
        "### Building a KNNeighbours Classification Model"
      ]
    },
    {
      "cell_type": "code",
      "metadata": {
        "colab": {
          "base_uri": "https://localhost:8080/"
        },
        "id": "bEMTkVZnSO_S",
        "outputId": "58da2264-5ca5-447b-ffcd-5568082c3df0"
      },
      "source": [
        "X_train, X_test, y_train, y_test = train_test_split(X, y1, test_size = 0.2, random_state = 1)\n",
        "print(y1)"
      ],
      "execution_count": null,
      "outputs": [
        {
          "name": "stdout",
          "output_type": "stream",
          "text": [
            "[[0. 1.]\n",
            " [0. 0.]\n",
            " [0. 0.]\n",
            " [0. 0.]\n",
            " [0. 0.]\n",
            " [0. 1.]\n",
            " [0. 0.]\n",
            " [1. 1.]\n",
            " [1. 1.]\n",
            " [1. 1.]\n",
            " [1. 1.]\n",
            " [1. 1.]\n",
            " [1. 1.]\n",
            " [1. 1.]\n",
            " [1. 1.]\n",
            " [1. 1.]\n",
            " [1. 1.]\n",
            " [1. 1.]\n",
            " [1. 1.]\n",
            " [1. 1.]\n",
            " [1. 1.]\n",
            " [1. 1.]\n",
            " [1. 1.]\n",
            " [0. 0.]\n",
            " [0. 0.]\n",
            " [0. 0.]\n",
            " [0. 1.]\n",
            " [0. 0.]\n",
            " [0. 0.]\n",
            " [1. 1.]\n",
            " [1. 1.]\n",
            " [1. 1.]\n",
            " [1. 1.]\n",
            " [1. 1.]\n",
            " [1. 1.]\n",
            " [1. 1.]\n",
            " [1. 1.]\n",
            " [1. 1.]\n",
            " [0. 1.]\n",
            " [0. 0.]\n",
            " [1. 1.]\n",
            " [1. 1.]\n",
            " [1. 1.]\n",
            " [1. 1.]\n",
            " [1. 1.]\n",
            " [1. 1.]\n",
            " [1. 1.]\n",
            " [1. 1.]\n",
            " [1. 1.]\n",
            " [1. 1.]\n",
            " [1. 1.]\n",
            " [0. 0.]\n",
            " [0. 1.]\n",
            " [0. 0.]\n",
            " [1. 1.]\n",
            " [1. 1.]\n",
            " [1. 1.]\n",
            " [1. 1.]\n",
            " [1. 1.]\n",
            " [1. 1.]\n",
            " [1. 1.]\n",
            " [1. 1.]\n",
            " [1. 1.]\n",
            " [1. 1.]\n",
            " [1. 1.]\n",
            " [1. 1.]\n",
            " [1. 1.]\n",
            " [1. 1.]\n",
            " [1. 1.]\n",
            " [1. 1.]\n",
            " [1. 1.]\n",
            " [1. 1.]\n",
            " [1. 1.]\n",
            " [1. 1.]\n",
            " [1. 1.]\n",
            " [1. 1.]\n",
            " [1. 1.]\n",
            " [1. 1.]\n",
            " [0. 0.]\n",
            " [1. 1.]\n",
            " [1. 1.]\n",
            " [1. 1.]\n",
            " [1. 1.]\n",
            " [0. 0.]\n",
            " [0. 0.]\n",
            " [1. 1.]\n",
            " [0. 0.]\n",
            " [0. 0.]\n",
            " [0. 0.]\n",
            " [1. 1.]\n",
            " [0. 0.]\n",
            " [0. 0.]\n",
            " [0. 0.]\n",
            " [0. 1.]\n",
            " [0. 0.]\n",
            " [0. 0.]\n",
            " [1. 1.]\n",
            " [0. 1.]\n",
            " [0. 1.]\n",
            " [0. 0.]\n",
            " [0. 0.]\n",
            " [1. 1.]\n",
            " [1. 1.]\n",
            " [1. 1.]\n",
            " [1. 1.]\n",
            " [1. 1.]\n",
            " [1. 1.]\n",
            " [1. 1.]\n",
            " [1. 1.]\n",
            " [1. 1.]\n",
            " [1. 1.]\n",
            " [0. 0.]\n",
            " [1. 1.]\n",
            " [1. 1.]\n",
            " [1. 1.]\n",
            " [1. 1.]\n",
            " [1. 1.]\n",
            " [1. 1.]\n",
            " [1. 1.]\n",
            " [1. 1.]\n",
            " [1. 1.]\n",
            " [1. 1.]\n",
            " [1. 1.]\n",
            " [1. 1.]\n",
            " [1. 1.]\n",
            " [1. 1.]\n",
            " [1. 1.]\n",
            " [1. 1.]\n",
            " [1. 1.]\n",
            " [1. 1.]\n",
            " [0. 1.]\n",
            " [0. 0.]\n",
            " [0. 0.]\n",
            " [0. 0.]\n",
            " [0. 1.]]\n"
          ]
        }
      ]
    },
    {
      "cell_type": "code",
      "metadata": {
        "colab": {
          "base_uri": "https://localhost:8080/"
        },
        "id": "2KIRGp8zRIYO",
        "outputId": "c36e4a03-eb2f-42db-c3ec-106aabbf5815"
      },
      "source": [
        "from sklearn.neighbors import KNeighborsClassifier\n",
        "KNN0 = KNeighborsClassifier()\n",
        "KNN1 = KNeighborsClassifier()\n",
        "KNN0.fit(X_train, y_train[:,0])\n",
        "KNN1.fit(X_train, y_train[:,1])"
      ],
      "execution_count": null,
      "outputs": [
        {
          "data": {
            "text/plain": [
              "KNeighborsClassifier()"
            ]
          },
          "execution_count": 36,
          "metadata": {},
          "output_type": "execute_result"
        }
      ]
    },
    {
      "cell_type": "code",
      "metadata": {
        "colab": {
          "base_uri": "https://localhost:8080/"
        },
        "id": "hqh_GPCMRjPs",
        "outputId": "e0fefa10-3d72-49af-9772-f13ed60b4542"
      },
      "source": [
        "y_pred0 = KNN0.predict(X_test)\n",
        "y_pred1 = KNN1.predict(X_test)\n",
        "from sklearn.metrics import confusion_matrix, accuracy_score\n",
        "cm0 = confusion_matrix(y_test[:,0], y_pred0)\n",
        "cm1 =  confusion_matrix(y_test[:,1], y_pred1)\n",
        "print(cm0,cm1)\n",
        "print(\"Your Model Accuracy is = {}\".format(accuracy_score(y_test[:,0], y_pred0)*100))\n",
        "print(\"Your Model Accuracy is = {}\".format(accuracy_score(y_test[:,1], y_pred1)*100))"
      ],
      "execution_count": null,
      "outputs": [
        {
          "name": "stdout",
          "output_type": "stream",
          "text": [
            "[[ 3  3]\n",
            " [ 1 20]] [[ 2  2]\n",
            " [ 2 21]]\n",
            "Your Model Accuracy is = 85.18518518518519\n",
            "Your Model Accuracy is = 85.18518518518519\n"
          ]
        }
      ]
    },
    {
      "cell_type": "markdown",
      "metadata": {
        "id": "atNVIjrw7mjp"
      },
      "source": [
        "### Building a SVM Classification Model"
      ]
    },
    {
      "cell_type": "markdown",
      "metadata": {
        "id": "aNyhJNLZHrR4"
      },
      "source": [
        "Training the SVM Model on the Training set"
      ]
    },
    {
      "cell_type": "code",
      "metadata": {
        "colab": {
          "base_uri": "https://localhost:8080/"
        },
        "id": "FAgpad_yHrR4",
        "outputId": "74dce205-115b-444f-8cb5-ae9fb8484d93"
      },
      "source": [
        "from sklearn.svm import SVC\n",
        "classifier_SVC = SVC(kernel = 'rbf', random_state = 0)\n",
        "classifier1_SVC = SVC(kernel = 'rbf', random_state = 0)\n",
        "classifier_SVC.fit(X_train, y_train[:,0])\n",
        "classifier1_SVC.fit(X_train, y_train[:,1])"
      ],
      "execution_count": null,
      "outputs": [
        {
          "data": {
            "text/plain": [
              "SVC(random_state=0)"
            ]
          },
          "execution_count": 38,
          "metadata": {},
          "output_type": "execute_result"
        }
      ]
    },
    {
      "cell_type": "markdown",
      "metadata": {
        "id": "jjMUCTrXHrR5"
      },
      "source": [
        "Predicting the Test Results"
      ]
    },
    {
      "cell_type": "code",
      "metadata": {
        "colab": {
          "base_uri": "https://localhost:8080/"
        },
        "id": "ACB-CKoTAGsi",
        "outputId": "d7a66de6-432f-455b-83cb-069f8d3571be"
      },
      "source": [
        "y1_pred_SVM = classifier_SVC.predict(X_test) # predict output for circular feature quality \n",
        "y1_pred1_SVM = classifier1_SVC.predict(X_test) # predict output for part part quality\n",
        "\n",
        "y1_pred_SVM  # check output of the model for y1_pred_SVM\n",
        "y1_pred1_SVM # check output of the model for y1_pred1_SVM\n",
        "\n"
      ],
      "execution_count": null,
      "outputs": [
        {
          "data": {
            "text/plain": [
              "array([1., 1., 1., 1., 1., 1., 1., 1., 1., 1., 1., 1., 1., 1., 1., 1., 1.,\n",
              "       1., 1., 1., 1., 1., 1., 1., 1., 1., 1.])"
            ]
          },
          "execution_count": 39,
          "metadata": {},
          "output_type": "execute_result"
        }
      ]
    },
    {
      "cell_type": "markdown",
      "metadata": {
        "id": "oNvxAOkNHrR5"
      },
      "source": [
        "Making the Confusion Matrix"
      ]
    },
    {
      "cell_type": "code",
      "metadata": {
        "colab": {
          "base_uri": "https://localhost:8080/"
        },
        "id": "pDufEfQ4HrR5",
        "outputId": "fc11ce64-1253-4256-e43a-bf1fc6d52d1c"
      },
      "source": [
        "from sklearn.metrics import confusion_matrix, accuracy_score\n",
        "cm_SVM = confusion_matrix(y_test[:,0], y1_pred_SVM)\n",
        "cm1_SVM = confusion_matrix(y_test[:,1], y1_pred1_SVM)\n",
        "\n",
        "print(cm_SVM)\n",
        "print(cm1_SVM)\n",
        "print(\"Your Model Accuracy is=\", accuracy_score(y_test[:,0], y1_pred_SVM)*100, \"%\")\n",
        "print(\"Your Model Accuracy is=\", accuracy_score(y_test[:,1], y1_pred1_SVM)*100, \"%\")"
      ],
      "execution_count": null,
      "outputs": [
        {
          "name": "stdout",
          "output_type": "stream",
          "text": [
            "[[ 2  4]\n",
            " [ 1 20]]\n",
            "[[ 0  4]\n",
            " [ 0 23]]\n",
            "Your Model Accuracy is= 81.48148148148148 %\n",
            "Your Model Accuracy is= 85.18518518518519 %\n"
          ]
        }
      ]
    },
    {
      "cell_type": "markdown",
      "metadata": {
        "id": "96xLBEsp9YMK"
      },
      "source": [
        "### Building a Naive Bayes Classification Model"
      ]
    },
    {
      "cell_type": "code",
      "metadata": {
        "colab": {
          "base_uri": "https://localhost:8080/"
        },
        "id": "TbPySiWJMHsU",
        "outputId": "1428e7d9-89cf-4cc3-c388-eaecbe1a56b1"
      },
      "source": [
        "from sklearn.naive_bayes import GaussianNB\n",
        "classifier = GaussianNB() #the first column of the classified output is the disc being visually defective (1) or not (0)\n",
        "classifier1 = GaussianNB() #the second column of the classified output is the overall part being defective (1) or not (0)\n",
        "print(y_train[:,1])\n",
        "print(y_train[:,0])\n",
        "classifier.fit(X_train, y_train[:,0])\n",
        "classifier1.fit(X_train, y_train[:,1])"
      ],
      "execution_count": null,
      "outputs": [
        {
          "name": "stdout",
          "output_type": "stream",
          "text": [
            "[1. 1. 1. 1. 0. 1. 1. 1. 1. 0. 0. 0. 0. 1. 0. 1. 0. 1. 1. 0. 0. 1. 1. 1.\n",
            " 0. 1. 0. 1. 1. 1. 1. 1. 1. 1. 1. 1. 1. 1. 1. 0. 0. 1. 1. 1. 1. 1. 1. 0.\n",
            " 1. 1. 1. 1. 1. 1. 1. 1. 0. 1. 0. 1. 1. 1. 1. 0. 1. 1. 0. 1. 1. 0. 1. 1.\n",
            " 1. 1. 0. 1. 1. 1. 1. 1. 1. 1. 1. 0. 1. 0. 1. 1. 1. 0. 1. 1. 1. 1. 0. 1.\n",
            " 1. 0. 1. 1. 1. 1. 0. 1. 1. 1. 1. 1.]\n",
            "[1. 1. 1. 1. 0. 1. 1. 1. 1. 0. 0. 0. 0. 1. 0. 1. 0. 1. 1. 0. 0. 1. 1. 1.\n",
            " 0. 1. 0. 0. 1. 1. 1. 1. 1. 1. 0. 0. 1. 1. 0. 0. 0. 1. 1. 1. 1. 1. 1. 0.\n",
            " 1. 1. 1. 1. 0. 0. 1. 1. 0. 1. 0. 1. 1. 1. 1. 0. 0. 1. 0. 1. 1. 0. 1. 1.\n",
            " 1. 0. 0. 1. 1. 1. 1. 1. 1. 1. 1. 0. 1. 0. 1. 1. 1. 0. 1. 1. 1. 1. 0. 1.\n",
            " 1. 0. 1. 1. 1. 1. 0. 1. 1. 1. 1. 1.]\n"
          ]
        },
        {
          "data": {
            "text/plain": [
              "GaussianNB()"
            ]
          },
          "execution_count": 50,
          "metadata": {},
          "output_type": "execute_result"
        }
      ]
    },
    {
      "cell_type": "markdown",
      "metadata": {
        "id": "2YuajMwNGcYH"
      },
      "source": [
        "Predicting the Test set Results"
      ]
    },
    {
      "cell_type": "code",
      "metadata": {
        "colab": {
          "base_uri": "https://localhost:8080/",
          "height": 112
        },
        "id": "d1nPhxbaMX_b",
        "outputId": "3947f4be-59d7-4f31-e1a0-796cab6b32da"
      },
      "source": [
        "y1_pred = classifier.predict(X_test)\n",
        "y1_pred1 = classifier1.predict(X_test)\n",
        "compare=[y1_pred,y_test[:,0]]\n",
        "compare1=[y1_pred1,y_test[:,1]]\n",
        "pd.DataFrame(compare)\n",
        "pd.DataFrame(compare1)"
      ],
      "execution_count": null,
      "outputs": [
        {
          "data": {
            "text/html": [
              "<div>\n",
              "<style scoped>\n",
              "    .dataframe tbody tr th:only-of-type {\n",
              "        vertical-align: middle;\n",
              "    }\n",
              "\n",
              "    .dataframe tbody tr th {\n",
              "        vertical-align: top;\n",
              "    }\n",
              "\n",
              "    .dataframe thead th {\n",
              "        text-align: right;\n",
              "    }\n",
              "</style>\n",
              "<table border=\"1\" class=\"dataframe\">\n",
              "  <thead>\n",
              "    <tr style=\"text-align: right;\">\n",
              "      <th></th>\n",
              "      <th>0</th>\n",
              "      <th>1</th>\n",
              "      <th>2</th>\n",
              "      <th>3</th>\n",
              "      <th>4</th>\n",
              "      <th>5</th>\n",
              "      <th>6</th>\n",
              "      <th>7</th>\n",
              "      <th>8</th>\n",
              "      <th>9</th>\n",
              "      <th>...</th>\n",
              "      <th>17</th>\n",
              "      <th>18</th>\n",
              "      <th>19</th>\n",
              "      <th>20</th>\n",
              "      <th>21</th>\n",
              "      <th>22</th>\n",
              "      <th>23</th>\n",
              "      <th>24</th>\n",
              "      <th>25</th>\n",
              "      <th>26</th>\n",
              "    </tr>\n",
              "  </thead>\n",
              "  <tbody>\n",
              "    <tr>\n",
              "      <th>0</th>\n",
              "      <td>1.0</td>\n",
              "      <td>1.0</td>\n",
              "      <td>0.0</td>\n",
              "      <td>0.0</td>\n",
              "      <td>1.0</td>\n",
              "      <td>0.0</td>\n",
              "      <td>1.0</td>\n",
              "      <td>1.0</td>\n",
              "      <td>0.0</td>\n",
              "      <td>1.0</td>\n",
              "      <td>...</td>\n",
              "      <td>0.0</td>\n",
              "      <td>1.0</td>\n",
              "      <td>1.0</td>\n",
              "      <td>1.0</td>\n",
              "      <td>0.0</td>\n",
              "      <td>1.0</td>\n",
              "      <td>0.0</td>\n",
              "      <td>0.0</td>\n",
              "      <td>1.0</td>\n",
              "      <td>1.0</td>\n",
              "    </tr>\n",
              "    <tr>\n",
              "      <th>1</th>\n",
              "      <td>1.0</td>\n",
              "      <td>1.0</td>\n",
              "      <td>1.0</td>\n",
              "      <td>1.0</td>\n",
              "      <td>1.0</td>\n",
              "      <td>1.0</td>\n",
              "      <td>1.0</td>\n",
              "      <td>1.0</td>\n",
              "      <td>0.0</td>\n",
              "      <td>1.0</td>\n",
              "      <td>...</td>\n",
              "      <td>0.0</td>\n",
              "      <td>1.0</td>\n",
              "      <td>1.0</td>\n",
              "      <td>1.0</td>\n",
              "      <td>0.0</td>\n",
              "      <td>1.0</td>\n",
              "      <td>1.0</td>\n",
              "      <td>0.0</td>\n",
              "      <td>1.0</td>\n",
              "      <td>1.0</td>\n",
              "    </tr>\n",
              "  </tbody>\n",
              "</table>\n",
              "<p>2 rows × 27 columns</p>\n",
              "</div>"
            ],
            "text/plain": [
              "    0    1    2    3    4    5    6    7    8    9   ...   17   18   19   20  \\\n",
              "0  1.0  1.0  0.0  0.0  1.0  0.0  1.0  1.0  0.0  1.0  ...  0.0  1.0  1.0  1.0   \n",
              "1  1.0  1.0  1.0  1.0  1.0  1.0  1.0  1.0  0.0  1.0  ...  0.0  1.0  1.0  1.0   \n",
              "\n",
              "    21   22   23   24   25   26  \n",
              "0  0.0  1.0  0.0  0.0  1.0  1.0  \n",
              "1  0.0  1.0  1.0  0.0  1.0  1.0  \n",
              "\n",
              "[2 rows x 27 columns]"
            ]
          },
          "execution_count": 51,
          "metadata": {},
          "output_type": "execute_result"
        }
      ]
    },
    {
      "cell_type": "markdown",
      "metadata": {
        "id": "4kMj5nbnGoHQ"
      },
      "source": [
        "Making the confusion matrices"
      ]
    },
    {
      "cell_type": "code",
      "metadata": {
        "colab": {
          "base_uri": "https://localhost:8080/"
        },
        "id": "AWKLONzzMcUA",
        "outputId": "69b848d3-6e13-4eb6-e127-c9a4bd2d2ea6"
      },
      "source": [
        "from sklearn.metrics import confusion_matrix, accuracy_score\n",
        "cm = confusion_matrix(y_test[:,0], y1_pred) #confusion matrix for the disc shape output\n",
        "cm1 =  confusion_matrix(y_test[:,1], y1_pred1) #confusion matrix for the overall output\n",
        "print(cm) \n",
        "print(cm1)\n",
        "print(\"Your Model Accuracy is=\", accuracy_score(y_test[:,0], y1_pred)*100, \"%\")\n",
        "print(\"Your Model Accuracy is=\", accuracy_score(y_test[:,1], y1_pred1)*100, \"%\")"
      ],
      "execution_count": null,
      "outputs": [
        {
          "name": "stdout",
          "output_type": "stream",
          "text": [
            "[[ 6  0]\n",
            " [ 4 17]]\n",
            "[[ 4  0]\n",
            " [ 6 17]]\n",
            "Your Model Accuracy is= 85.18518518518519 %\n",
            "Your Model Accuracy is= 77.77777777777779 %\n"
          ]
        }
      ]
    },
    {
      "cell_type": "code",
      "metadata": {
        "id": "NnsxhA1J4o61",
        "outputId": "409c86aa-8f9b-4bca-d55b-d5e5b327f460"
      },
      "source": [
        "from sklearn.naive_bayes import GaussianNB\n",
        "nb_clf = GaussianNB()\n",
        "nb_clf1 = GaussianNB()\n",
        "\n",
        "nb_clf.fit(X_train, y_train[:,0])\n",
        "nb_clf1.fit(X_train, y_train[:,1])\n",
        "\n",
        "from sklearn.model_selection import cross_val_score\n",
        "\n",
        "scores = cross_val_score(nb_clf, X_train, y_train[:,0], scoring='accuracy', cv=5)\n",
        "scores1 = cross_val_score(nb_clf, X_train, y_train[:,1], scoring='accuracy', cv=5)\n",
        "\n",
        "print(scores)\n",
        "scores1\n",
        "\n",
        "print('Averaged prediction accuracy = ', np.average(scores))\n",
        "\n"
      ],
      "execution_count": null,
      "outputs": [
        {
          "name": "stdout",
          "output_type": "stream",
          "text": [
            "[0.77272727 0.63636364 0.81818182 0.57142857 0.85714286]\n",
            "Averaged prediction accuracy =  0.7311688311688311\n"
          ]
        }
      ]
    },
    {
      "cell_type": "markdown",
      "metadata": {
        "id": "6xP8-RcaW6X9"
      },
      "source": [
        "### Building a Logistic Regression Model"
      ]
    },
    {
      "cell_type": "code",
      "metadata": {
        "id": "b-KjCk1OUZOn"
      },
      "source": [
        "X = dataset.iloc[:, 1:8].values\n",
        "y = dataset.iloc[:,8:10].values\n",
        "y0 = dataset.iloc[:, 10:12].values\n",
        "y0 = np.logical_or(y0[:,0],y0[:,1])"
      ],
      "execution_count": null,
      "outputs": []
    },
    {
      "cell_type": "code",
      "metadata": {
        "id": "kZ3RlQtHUkW-"
      },
      "source": [
        "from sklearn.preprocessing import LabelEncoder\n",
        "le = LabelEncoder()\n",
        "y0 = le.fit_transform(y0)\n",
        "y0 = np.invert(y0)+2"
      ],
      "execution_count": null,
      "outputs": []
    },
    {
      "cell_type": "code",
      "metadata": {
        "id": "eFG82txtUVrr"
      },
      "source": [
        "from sklearn.model_selection import train_test_split\n",
        "X_train, X_test, y_train, y_test = train_test_split(X, y0, test_size = 0.2, random_state = 1)"
      ],
      "execution_count": null,
      "outputs": []
    },
    {
      "cell_type": "code",
      "metadata": {
        "id": "4n_V4fzEUMf9",
        "outputId": "b942cfe4-5150-48ca-affe-3491d9f580e9"
      },
      "source": [
        "from sklearn.linear_model import LogisticRegression\n",
        "LogiReg = LogisticRegression(max_iter = 200)\n",
        "LogiReg.fit(X_train, y_train)\n",
        "y_pred = LogiReg.predict(X_test)\n",
        "y_pred"
      ],
      "execution_count": null,
      "outputs": [
        {
          "data": {
            "text/plain": [
              "array([0, 0, 0, 0, 0, 0, 0, 0, 0, 0, 0, 0, 0, 0, 0, 0, 0, 0, 0, 0, 0, 1,\n",
              "       0, 0, 0, 0, 0], dtype=int64)"
            ]
          },
          "execution_count": 63,
          "metadata": {},
          "output_type": "execute_result"
        }
      ]
    },
    {
      "cell_type": "code",
      "metadata": {
        "colab": {
          "base_uri": "https://localhost:8080/"
        },
        "id": "TGN5mltEUT1A",
        "outputId": "2b42b97f-2e84-44c6-8975-860a0e3805db"
      },
      "source": [
        "from sklearn.metrics import confusion_matrix, accuracy_score\n",
        "cm = confusion_matrix(y_test, y_pred)\n",
        "print(cm)\n",
        "print(\"Your accuracy is = {:.3f}%\".format(accuracy_score(y_test, y_pred)*100))"
      ],
      "execution_count": null,
      "outputs": [
        {
          "name": "stdout",
          "output_type": "stream",
          "text": [
            "[[23  0]\n",
            " [ 3  1]]\n",
            "Your accuracy is = 88.889%\n"
          ]
        }
      ]
    },
    {
      "cell_type": "markdown",
      "metadata": {
        "id": "Z_MkPlGonSv1"
      },
      "source": [
        "### Building an ANN Classifier Model"
      ]
    },
    {
      "cell_type": "code",
      "metadata": {
        "id": "YIHfqZHuax4o"
      },
      "source": [
        "X = dataset.iloc[:, 1:8].values\n",
        "y = dataset.iloc[:,8:10].values\n",
        "y0 = dataset.iloc[:, 10:12].values\n",
        "y0 = np.logical_or(y0[:,0],y0[:,1])"
      ],
      "execution_count": null,
      "outputs": []
    },
    {
      "cell_type": "code",
      "metadata": {
        "id": "b4PdL8qUdnh4"
      },
      "source": [
        "from sklearn.preprocessing import StandardScaler\n",
        "sc = StandardScaler()\n",
        "X = sc.fit_transform(X)"
      ],
      "execution_count": null,
      "outputs": []
    },
    {
      "cell_type": "code",
      "metadata": {
        "id": "s3fnmIF8a2Na"
      },
      "source": [
        "from sklearn.preprocessing import LabelEncoder\n",
        "le = LabelEncoder()\n",
        "y0 = le.fit_transform(y0)\n",
        "y0 = np.invert(y0)+2"
      ],
      "execution_count": null,
      "outputs": []
    },
    {
      "cell_type": "code",
      "metadata": {
        "id": "NnCWPZtrawue"
      },
      "source": [
        "from sklearn.model_selection import train_test_split\n",
        "X_train, X_test, y_train, y_test = train_test_split(X, y0, test_size = 0.2, random_state = 3)"
      ],
      "execution_count": null,
      "outputs": []
    },
    {
      "cell_type": "code",
      "metadata": {
        "id": "f9Mo5sygawQC"
      },
      "source": [
        "ann = keras.Sequential()\n",
        "ann.add(keras.Input(shape=(7,)))\n",
        "ann.add(keras.layers.Dense(units=7, activation=\"relu\", name=\"layer1\"))\n",
        "ann.add(keras.layers.Dense(units=9, activation=\"relu\", name=\"layer2\"))\n",
        "ann.add(keras.layers.Dense(units=1, activation=\"sigmoid\", name=\"layer3\"))\n",
        "ann.compile(optimizer='adam',loss='binary_crossentropy',metrics=['accuracy'])\n",
        "ann.fit(X_train,y_train,epochs=50)"
      ],
      "execution_count": null,
      "outputs": []
    },
    {
      "cell_type": "code",
      "metadata": {
        "id": "q3mT0YE0bKCS"
      },
      "source": [
        "ann.evaluate(X_test,y_test)\n",
        "y_pred = ann.predict(X_test)\n",
        "pred=[]\n",
        "for i in y_pred:\n",
        "    if i > 0.5:\n",
        "        pred.append(1)\n",
        "    else:\n",
        "        pred.append(0)\n",
        "print(pred)\n",
        "from sklearn.metrics import confusion_matrix, accuracy_score\n",
        "cm = confusion_matrix(y_test, pred)\n",
        "print(cm)\n",
        "print(\"Your classifier accuracy is = {:.3f}%\".format(accuracy_score(y_test, pred)*100))"
      ],
      "execution_count": null,
      "outputs": []
    },
    {
      "cell_type": "markdown",
      "metadata": {
        "id": "VjczdZjC75bI"
      },
      "source": [
        "## Regression Models"
      ]
    },
    {
      "cell_type": "markdown",
      "metadata": {
        "id": "JLmO-pgvxMWI"
      },
      "source": [
        "### Building a Multiple Linear Regression Model"
      ]
    },
    {
      "cell_type": "code",
      "metadata": {
        "id": "RaO0HFKyoKwE"
      },
      "source": [
        "X = dataset.iloc[:, 1:8].values\n",
        "y=dataset.iloc[:,8:10].values\n",
        "y0=dataset.iloc[:, 10:12].values\n",
        "from sklearn.impute import SimpleImputer\n",
        "imputer = SimpleImputer(missing_values=np.nan, strategy='mean')\n",
        "y = imputer.fit_transform(y)"
      ],
      "execution_count": null,
      "outputs": []
    },
    {
      "cell_type": "code",
      "metadata": {
        "id": "0YpuPMy4oPaI"
      },
      "source": [
        "X_train, X_test, y_train, y_test = train_test_split(X, y, test_size = 0.2, random_state = 1)"
      ],
      "execution_count": null,
      "outputs": []
    },
    {
      "cell_type": "markdown",
      "metadata": {
        "id": "vom7Lveoxyaj"
      },
      "source": [
        "Training the Multiple Linear Regression Model on the Training Set"
      ]
    },
    {
      "cell_type": "code",
      "metadata": {
        "id": "nmeKBfDcyEmL"
      },
      "source": [
        "from sklearn.linear_model import LinearRegression\n",
        "regressor = LinearRegression()\n",
        "regressor.fit(X_train, y_train)"
      ],
      "execution_count": null,
      "outputs": []
    },
    {
      "cell_type": "markdown",
      "metadata": {
        "id": "b6kqIytAyYzy"
      },
      "source": [
        "Checking the Model with the Test set"
      ]
    },
    {
      "cell_type": "code",
      "metadata": {
        "id": "KMaPwZHWyj0z"
      },
      "source": [
        "y_pred = regressor.predict(X_test)\n",
        "pd.DataFrame(y_pred)"
      ],
      "execution_count": null,
      "outputs": []
    },
    {
      "cell_type": "code",
      "metadata": {
        "id": "3ZM1rmyJ1Vk-"
      },
      "source": [
        "pd.DataFrame(y_test)"
      ],
      "execution_count": null,
      "outputs": []
    },
    {
      "cell_type": "markdown",
      "metadata": {
        "id": "bQDWoHpi2Yx5"
      },
      "source": [
        "from above I can conclude that the model is a good estimation of the actual value because y_pred and y_test are in the same range"
      ]
    },
    {
      "cell_type": "code",
      "metadata": {
        "id": "bntBHrO72JKw"
      },
      "source": [
        "from sklearn.metrics import mean_squared_error\n",
        "RMSE=(mean_squared_error(y_pred,y_test))**0.5\n",
        "print('RMSE: ', RMSE)"
      ],
      "execution_count": null,
      "outputs": []
    },
    {
      "cell_type": "markdown",
      "metadata": {
        "id": "JfE-zmN52izs"
      },
      "source": [
        "Our RSME(L) is small which tells us that our model is good."
      ]
    },
    {
      "cell_type": "markdown",
      "metadata": {
        "id": "eyYwYDTe2qw9"
      },
      "source": [
        "Using the model to predict yield strength and deflection of other random output"
      ]
    },
    {
      "cell_type": "code",
      "metadata": {
        "id": "7HP00cp_2-gz"
      },
      "source": [
        "EP = np.array([200,250,280,200,210,50,61])\n",
        "EP = EP.reshape(1, -1)\n",
        "EP=sc.fit_transform(EP)\n",
        "EP_Prediction = regressor.predict(EP)\n",
        "\n",
        "print('The output = ', EP_Prediction)"
      ],
      "execution_count": null,
      "outputs": []
    },
    {
      "cell_type": "code",
      "metadata": {
        "id": "kEqlpMmko2Mm"
      },
      "source": [
        "print(mean_squared_error(y_test[:,0], y_pred[:,0]))\n",
        "print(mean_squared_error(y_test[:,1], y_pred[:,1]))"
      ],
      "execution_count": null,
      "outputs": []
    },
    {
      "cell_type": "markdown",
      "metadata": {
        "id": "nV0UXFSi5dhv"
      },
      "source": [
        "### Building a Support Vector Regression Model"
      ]
    },
    {
      "cell_type": "code",
      "metadata": {
        "id": "kLUDBx_nnJV-"
      },
      "source": [
        "X = dataset.iloc[:, 1:8].values\n",
        "y=dataset.iloc[:,8:10].values\n",
        "y0=dataset.iloc[:, 10:12].values\n",
        "from sklearn.impute import SimpleImputer\n",
        "imputer = SimpleImputer(missing_values=np.nan, strategy='mean')\n",
        "y = imputer.fit_transform(y)"
      ],
      "execution_count": null,
      "outputs": []
    },
    {
      "cell_type": "code",
      "metadata": {
        "id": "Kksw8_wzn2dt"
      },
      "source": [
        "X_train, X_test, y_train, y_test = train_test_split(X, y, test_size = 0.2, random_state = 1)"
      ],
      "execution_count": null,
      "outputs": []
    },
    {
      "cell_type": "markdown",
      "metadata": {
        "id": "64PgOtMWBnhr"
      },
      "source": [
        "Training the SVR Model on the Dataset"
      ]
    },
    {
      "cell_type": "code",
      "metadata": {
        "id": "D7eD-Gs5BvmH"
      },
      "source": [
        "from sklearn.svm import SVR\n",
        "regressor = SVR(kernel = 'rbf')\n",
        "regressor1= SVR(kernel = 'rbf')\n",
        "regressor.fit(X_train,y_train[:,0])\n",
        "regressor1.fit(X_train,y_train[:,1])"
      ],
      "execution_count": null,
      "outputs": []
    },
    {
      "cell_type": "markdown",
      "metadata": {
        "id": "W2YKx4xcHzd7"
      },
      "source": [
        "checking the model with the Test test"
      ]
    },
    {
      "cell_type": "code",
      "metadata": {
        "id": "nRzDoc3IHj5q"
      },
      "source": [
        "y_predict1 = regressor.predict(X_test)\n",
        "pd.DataFrame([y_predict1, y_test[:,0]])"
      ],
      "execution_count": null,
      "outputs": []
    },
    {
      "cell_type": "markdown",
      "metadata": {
        "id": "3kt-G05gIZuM"
      },
      "source": [
        "the model is good approxiation of yield strength: because y_predict1 and y_test[:, 0] are in the same range"
      ]
    },
    {
      "cell_type": "code",
      "metadata": {
        "id": "mR-8dPJWBumu"
      },
      "source": [
        "y_predict2 = regressor1.predict(X_test)\n",
        "pd.DataFrame(y_predict2,y_test[:,1])"
      ],
      "execution_count": null,
      "outputs": []
    },
    {
      "cell_type": "markdown",
      "metadata": {
        "id": "2yJPMcAlIyFy"
      },
      "source": [
        "The model is a good approximation of deflection because y_predict2 and y_test[:,1] are in the same range"
      ]
    },
    {
      "cell_type": "code",
      "metadata": {
        "id": "Vb0MhJy3Jv6i"
      },
      "source": [
        "EP = np.array([200,250,280,200,210,50,61])\n",
        "EP = EP.reshape(1, -1)\n",
        "EP=sc.fit_transform(EP)\n",
        "EP_Prediction = regressor.predict(EP)\n",
        "EP_Prediction1 = regressor1.predict(EP)\n",
        "print('The output yield strength = ', EP_Prediction)\n",
        "print('The output deflection=',EP_Prediction1)"
      ],
      "execution_count": null,
      "outputs": []
    },
    {
      "cell_type": "markdown",
      "metadata": {
        "id": "xylBOsEdKMCn"
      },
      "source": [
        "In conclusion the SVM model is able to predict values of deflection and yield strength given some input parameters"
      ]
    },
    {
      "cell_type": "code",
      "metadata": {
        "id": "Coygwl4rnDh9"
      },
      "source": [
        "print(mean_squared_error(y_test[:,0], y_predict1))\n",
        "print(mean_squared_error(y_test[:,1], y_predict2))"
      ],
      "execution_count": null,
      "outputs": []
    },
    {
      "cell_type": "markdown",
      "metadata": {
        "id": "KGGb9FGmFp9R"
      },
      "source": [
        "### Building an ANN regression model"
      ]
    },
    {
      "cell_type": "code",
      "metadata": {
        "id": "YIxlcdk-X3Cz"
      },
      "source": [
        "X = dataset.iloc[:, 1:8].values\n",
        "y=dataset.iloc[:,8:10].values\n",
        "y0=dataset.iloc[:, 10:12].values\n",
        "from sklearn.impute import SimpleImputer\n",
        "imputer = SimpleImputer(missing_values=np.nan, strategy='mean')\n",
        "y = imputer.fit_transform(y)\n",
        "from sklearn.preprocessing import MinMaxScaler\n",
        "sc = MinMaxScaler()\n",
        "X = sc.fit_transform(X)\n",
        "y = sc.fit_transform(y)"
      ],
      "execution_count": null,
      "outputs": []
    },
    {
      "cell_type": "code",
      "metadata": {
        "id": "927WRBd7XsiR"
      },
      "source": [
        "from sklearn.model_selection import train_test_split\n",
        "X_train, X_test, y_train, y_test = train_test_split(X, y, test_size = 0.2, random_state = 1)"
      ],
      "execution_count": null,
      "outputs": []
    },
    {
      "cell_type": "code",
      "metadata": {
        "id": "mm20v52KXGox"
      },
      "source": [
        "ann1 = keras.Sequential()\n",
        "ann1.add(keras.Input(shape=(7,)))\n",
        "ann1.add(keras.layers.Dense(units=7, activation=\"relu\", name=\"layer1\"))\n",
        "ann1.add(keras.layers.Dense(units=11, activation=\"relu\", name=\"layer2\"))\n",
        "#ann1.add(keras.layers.Dense(units=5, activation=\"relu\", name=\"layer3\"))\n",
        "ann1.add(keras.layers.Dense(units=2, activation=\"sigmoid\", name=\"out\"))\n",
        "ann1.compile(optimizer='sgd',loss='mean_squared_error',metrics=['accuracy'])\n",
        "ann1.fit(X_train,y_train,epochs=500)"
      ],
      "execution_count": null,
      "outputs": []
    },
    {
      "cell_type": "code",
      "metadata": {
        "id": "OTD5mzqOr7sp"
      },
      "source": [
        "ann1.evaluate(X_test,y_test)\n",
        "y_pred = ann1.predict(X_test)\n",
        "print(sc.inverse_transform(y_pred),sc.inverse_transform(y_test))"
      ],
      "execution_count": null,
      "outputs": []
    },
    {
      "cell_type": "code",
      "metadata": {
        "id": "iFrJILp7mD-l"
      },
      "source": [
        "from sklearn.metrics import mean_squared_error\n",
        "print(mean_squared_error(sc.inverse_transform(y_test)[:,0], sc.inverse_transform(y_pred)[:,0]))\n",
        "print(mean_squared_error(sc.inverse_transform(y_test)[:,1], sc.inverse_transform(y_pred)[:,1]))"
      ],
      "execution_count": null,
      "outputs": []
    },
    {
      "cell_type": "markdown",
      "metadata": {
        "id": "Kp5HPvuq-PvK"
      },
      "source": [
        "## CNN for post-production disc classification"
      ]
    },
    {
      "cell_type": "markdown",
      "metadata": {
        "id": "aSHBIVB59d-j"
      },
      "source": [
        "This CNN model predicts how accurately we can tell if a part has a complete circle (\"Good\") or an incomplete circle (\"Bad\").\n",
        "\n",
        "Importing the relevant libraries:\n"
      ]
    },
    {
      "cell_type": "code",
      "metadata": {
        "id": "iV55AEJJM0pg"
      },
      "source": [
        "import tensorflow as tf\n",
        "from keras.preprocessing.image import ImageDataGenerator"
      ],
      "execution_count": null,
      "outputs": []
    },
    {
      "cell_type": "code",
      "metadata": {
        "id": "FlkGtxXvNCcb"
      },
      "source": [
        "train_datagen = ImageDataGenerator(rescale = 1./255,\n",
        "                                   shear_range = 0.2,\n",
        "                                   zoom_range = 0.2,\n",
        "                                   horizontal_flip = True)\n",
        "#in order for you to run this model on your computer, you need to download the Round1Dataset.zip file and extract it, and then\n",
        "#change the file path in the two cells below.\n",
        "training_set = train_datagen.flow_from_directory('C:\\\\Users\\\\franc\\\\Documents\\\\Round1Dataset\\\\Round 1 Images\\\\Training Set',\n",
        "                                                 target_size = (64, 64),\n",
        "                                                 batch_size = 32,\n",
        "                                                 class_mode = 'binary')"
      ],
      "execution_count": null,
      "outputs": []
    },
    {
      "cell_type": "code",
      "metadata": {
        "id": "iNQwI8XfNGVU"
      },
      "source": [
        "test_datagen = ImageDataGenerator(rescale = 1./255)\n",
        "test_set = train_datagen.flow_from_directory('C:\\\\Users\\\\franc\\\\Documents\\\\Round1Dataset\\\\Round 1 Images\\\\Test Set',\n",
        "                                                 target_size = (64, 64),\n",
        "                                                 batch_size = 32,\n",
        "                                                 class_mode = 'binary')"
      ],
      "execution_count": null,
      "outputs": []
    },
    {
      "cell_type": "markdown",
      "metadata": {
        "id": "IppoQ4ITNLfQ"
      },
      "source": [
        "Building the CNN Model:"
      ]
    },
    {
      "cell_type": "code",
      "metadata": {
        "id": "7C_9yz8jNM5R"
      },
      "source": [
        "#Initializing the model\n",
        "Model = tf.keras.models.Sequential()"
      ],
      "execution_count": null,
      "outputs": []
    },
    {
      "cell_type": "code",
      "metadata": {
        "id": "TffGCDnPNYy-"
      },
      "source": [
        "Model.add(tf.keras.layers.Conv2D(filters=32, kernel_size=3, activation='relu', input_shape=[64, 64, 3]))\n",
        "Model.add(tf.keras.layers.MaxPool2D(pool_size=2, strides=2))\n",
        "Model.add(tf.keras.layers.Conv2D(filters=32, kernel_size=3, activation='relu'))\n",
        "Model.add(tf.keras.layers.MaxPool2D(pool_size=2, strides=2))\n",
        "Model.add(tf.keras.layers.Flatten())\n",
        "Model.add(tf.keras.layers.Dense(units=128, activation='relu'))\n",
        "Model.add(tf.keras.layers.Dense(units=1, activation='sigmoid'))\n",
        "Model.compile(optimizer = 'adam', loss = 'binary_crossentropy', metrics = ['accuracy'])\n",
        "\n",
        "Model.fit(x = training_set, validation_data = test_set, epochs = 10)"
      ],
      "execution_count": null,
      "outputs": []
    },
    {
      "cell_type": "code",
      "metadata": {
        "id": "v8pLQH0LHS4v"
      },
      "source": [
        "#Testing with a known \"bad\" part image, stored in the \"Single Prediction\" folder of Round1Dataset.\n",
        "#To change the tested image, change the file link below.\n",
        "import numpy as np\n",
        "from keras.preprocessing import image\n",
        "test_image = image.load_img('C:\\\\Users\\\\franc\\\\Documents\\\\Round1Dataset\\\\Single Prediction\\\\test-2.jpg', target_size = (64, 64))\n",
        "test_image = image.img_to_array(test_image)\n",
        "test_image = np.expand_dims(test_image, axis = 0)\n",
        "result = Model.predict(test_image)\n",
        "training_set.class_indices\n",
        "if result[0][0] == 1:\n",
        "  prediction = 'Good'\n",
        "else:\n",
        "  prediction = 'Bad'\n",
        "print(prediction)"
      ],
      "execution_count": null,
      "outputs": []
    }
  ]
}